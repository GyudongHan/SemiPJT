{
 "cells": [
  {
   "cell_type": "markdown",
   "id": "b0ffcb76-d9f6-4782-9c21-b652b30895d8",
   "metadata": {},
   "source": [
    "## 상권배후지_크롤링 3년치"
   ]
  },
  {
   "cell_type": "markdown",
   "id": "f3710e7a-121c-440a-9586-4dea5bfb928f",
   "metadata": {},
   "source": [
    "- 상주인구\n",
    "- VwsmTrdhlRepopQq"
   ]
  },
  {
   "cell_type": "code",
   "execution_count": 1,
   "id": "9829ba57-26f5-4bc8-8661-800d6427e811",
   "metadata": {
    "tags": []
   },
   "outputs": [],
   "source": [
    "import requests\n",
    "import pandas as pd\n",
    "\n",
    "## 함수\n",
    "def apidata(service, df_name):\n",
    "\n",
    "    years = [2020, 2021, 2022]\n",
    "\n",
    "    data_dict = {}\n",
    "\n",
    "    for year in years:\n",
    "        page = 1  # 초기식\n",
    "\n",
    "        while True:\n",
    "            end_num = page * 1000\n",
    "            start_num = end_num - 999\n",
    "            url = f'http://openapi.seoul.go.kr:8088/7949646757736b773733414e71744d/json/{service}/{start_num}/{end_num}/{year}'\n",
    "            res = requests.get(url)\n",
    "            sales_data = res.json()\n",
    "\n",
    "            # 데이터가 있는지 확인\n",
    "            if f'{service}' in sales_data and 'row' in sales_data[f'{service}']:\n",
    "                if year not in data_dict:\n",
    "                    data_dict[year] = []  # Create a list for the year if it doesn't exist\n",
    "                data_dict[year].append(pd.DataFrame(sales_data[f'{service}']['row']))\n",
    "                page += 1\n",
    "            else:\n",
    "                break  # 데이터가 없으면 종료\n",
    "                \n",
    "    # 데이터 프레임 concat (20,21,22)\n",
    "    combined_data = pd.concat([pd.concat(df_list, ignore_index=True) for df_list in data_dict.values()], ignore_index=True)\n",
    "\n",
    "    # Save the combined data to a CSV file\n",
    "    combined_data.to_csv('/Users/kimsinwoo/Desktop/multicampus/Project/상권배후지 raw data/' + df_name + '.csv', index=False, encoding='utf-8-sig')\n",
    "    return\n"
   ]
  },
  {
   "cell_type": "code",
   "execution_count": 8,
   "id": "48d3ae51-9e3e-4315-8e84-4c12133c3606",
   "metadata": {
    "tags": []
   },
   "outputs": [],
   "source": [
    "import requests\n",
    "import pandas as pd\n",
    "\n",
    "# 변수\n",
    "service_name = 'VwsmTrdhlRepopQq' # 서비스명\n",
    "csv_file_name = '상권배후지_상주인구_3' # 저장할 파일명\n",
    "\n",
    "# 메인\n",
    "apidata(service_name, csv_file_name)\n"
   ]
  },
  {
   "cell_type": "markdown",
   "id": "03227521-7c44-4769-b42c-46ecff0a58b3",
   "metadata": {},
   "source": [
    "- 직장인구\n",
    "- Vwsm_TrdhlWrcPopltnQq"
   ]
  },
  {
   "cell_type": "code",
   "execution_count": 11,
   "id": "4b87641d-d616-47f8-b8ee-fd158e963b4a",
   "metadata": {
    "tags": []
   },
   "outputs": [],
   "source": [
    "service_name = 'Vwsm_TrdhlWrcPopltnQq' # 서비스명\n",
    "csv_file_name = '상권배후지_직장인구_3' # 저장할 파일명\n",
    "\n",
    "apidata(service_name, csv_file_name)\n"
   ]
  },
  {
   "cell_type": "markdown",
   "id": "5c6b068a-73d2-4704-befc-16609f5daece",
   "metadata": {},
   "source": [
    "- 아파트\n",
    "- VwsmTrdhlAptQq"
   ]
  },
  {
   "cell_type": "code",
   "execution_count": 12,
   "id": "8ea32e31-5f8b-49e6-a9ce-188d835be8ab",
   "metadata": {
    "tags": []
   },
   "outputs": [],
   "source": [
    "service_name = 'VwsmTrdhlAptQq' # 서비스명\n",
    "csv_file_name = '상권배후지_아파트_3' # 저장할 파일명\n",
    "\n",
    "apidata(service_name, csv_file_name)"
   ]
  },
  {
   "cell_type": "markdown",
   "id": "2f3d5176-0446-4c65-93a9-979f126b5547",
   "metadata": {},
   "source": [
    "- 생활인구\n",
    "- VwsmTrdhlFlpopQq"
   ]
  },
  {
   "cell_type": "code",
   "execution_count": 13,
   "id": "a3f71bfb-52c0-4fcc-a88d-e94ae1538971",
   "metadata": {
    "tags": []
   },
   "outputs": [],
   "source": [
    "service_name = 'VwsmTrdhlFlpopQq' # 서비스명\n",
    "csv_file_name = '상권배후지_생활인구_3' # 저장할 파일명\n",
    "\n",
    "apidata(service_name, csv_file_name)"
   ]
  },
  {
   "cell_type": "markdown",
   "id": "a2118bfd-45d5-48b9-99f3-117e26990635",
   "metadata": {},
   "source": [
    "- 집객시설\n",
    "- VwsmTrdhlFcltyQq"
   ]
  },
  {
   "cell_type": "code",
   "execution_count": 14,
   "id": "7e4b35c9-3c4c-4b9a-bf4b-435c7651842b",
   "metadata": {
    "tags": []
   },
   "outputs": [],
   "source": [
    "service_name = 'VwsmTrdhlFcltyQq' # 서비스명\n",
    "csv_file_name = '상권배후지_집객시설_3' # 저장할 파일명\n",
    "\n",
    "apidata(service_name, csv_file_name)"
   ]
  },
  {
   "cell_type": "markdown",
   "id": "66cf5e2c-c49f-43e3-b5a4-b1cec61e7967",
   "metadata": {},
   "source": [
    "- 추정매출\n",
    "- VwsmTrdhlSelngQq"
   ]
  },
  {
   "cell_type": "code",
   "execution_count": 2,
   "id": "4327e171-a5ee-4248-be7c-817b2147244d",
   "metadata": {
    "tags": []
   },
   "outputs": [],
   "source": [
    "service_name = 'VwsmTrdhlSelngQq' # 서비스명\n",
    "csv_file_name = '상권배후지_추정매출_3' # 저장할 파일명\n",
    "\n",
    "apidata(service_name, csv_file_name)"
   ]
  },
  {
   "cell_type": "markdown",
   "id": "e08d999e-636a-40ba-afae-86e66a0ce8cf",
   "metadata": {},
   "source": [
    "- 상권 - 추정매출\n",
    "VwsmTrdarSelngQq/1/5/2020/A"
   ]
  },
  {
   "cell_type": "code",
   "execution_count": 4,
   "id": "056038a9-2c26-4b17-b1c5-eb30a19f8a0f",
   "metadata": {
    "tags": []
   },
   "outputs": [],
   "source": [
    "service_name = 'VwsmTrdarSelngQq' # 서비스명\n",
    "csv_file_name = '상권_추정매출_3' # 저장할 파일명\n",
    "\n",
    "apidata(service_name, csv_file_name)"
   ]
  },
  {
   "cell_type": "code",
   "execution_count": null,
   "id": "61553fe2-78ba-45a2-8a0e-b601bad4012c",
   "metadata": {},
   "outputs": [],
   "source": []
  }
 ],
 "metadata": {
  "kernelspec": {
   "display_name": "Python 3 (ipykernel)",
   "language": "python",
   "name": "python3"
  },
  "language_info": {
   "codemirror_mode": {
    "name": "ipython",
    "version": 3
   },
   "file_extension": ".py",
   "mimetype": "text/x-python",
   "name": "python",
   "nbconvert_exporter": "python",
   "pygments_lexer": "ipython3",
   "version": "3.11.4"
  }
 },
 "nbformat": 4,
 "nbformat_minor": 5
}
